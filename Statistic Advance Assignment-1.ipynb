{
 "cells": [
  {
   "cell_type": "markdown",
   "id": "cae02f97-fa4d-44ae-9959-53844ab5c469",
   "metadata": {},
   "source": [
    "Q 1. The Probability Density Function (PDF) is a fundamental concept in probability theory and statistics. It is used to describe the likelihood of a continuous random variable taking on a specific value within a given range. In other words, the PDF provides the distribution of probabilities over the entire range of possible values for a continuous random variable."
   ]
  },
  {
   "cell_type": "markdown",
   "id": "633889b2-bdea-43ef-8e18-20c83c01cdb0",
   "metadata": {},
   "source": [
    "Q. 2 There are several types of probability distributions, each representing different patterns of probability for random variables. The two main categories of probability distributions are:\n",
    "\n",
    "Discrete Probability Distributions:\n",
    "\n",
    "Probability Mass Function (PMF): A PMF describes the probabilities of a discrete random variable taking on specific values. It assigns probabilities to each possible outcome, and the sum of all probabilities equals 1.\n",
    "Examples of discrete probability distributions include:\n",
    "Bernoulli distribution: Represents a binary event with two possible outcomes (e.g., success/failure, yes/no).\n",
    "Binomial distribution: Models the number of successes in a fixed number of independent Bernoulli trials.\n",
    "Poisson distribution: Models the number of events that occur in a fixed interval of time or space, given a constant average rate of occurrence.\n",
    "Continuous Probability Distributions:\n",
    "\n",
    "Probability Density Function (PDF): A PDF describes the probabilities of a continuous random variable taking on specific intervals of values. Unlike a PMF, it does not provide the probability of a single point but rather the probability of the random variable falling within a given range.\n",
    "Examples of continuous probability distributions include:\n",
    "Normal (Gaussian) distribution: A symmetrical bell-shaped distribution, commonly used in statistics due to the Central Limit Theorem.\n",
    "Uniform distribution: All values within a specific range have equal probabilities.\n",
    "Exponential distribution: Models the time between events in a Poisson process, where events occur continuously and independently at a constant rate."
   ]
  },
  {
   "cell_type": "markdown",
   "id": "4c7a01f9-9df3-4aea-89c2-01903cf62f4e",
   "metadata": {},
   "source": [
    "Q 3.To calculate the Probability Density Function (PDF) of a normal distribution at a given point (x) with a given mean (μ) and standard deviation (σ), you can use the following Python function. We will use the scipy.stats module to access the normal distribution functionality."
   ]
  },
  {
   "cell_type": "code",
   "execution_count": 1,
   "id": "3b55c6bc-66a0-45ad-8a7e-f5274211a17c",
   "metadata": {},
   "outputs": [
    {
     "name": "stdout",
     "output_type": "stream",
     "text": [
      "Requirement already satisfied: scipy in /opt/conda/lib/python3.10/site-packages (1.9.3)\n",
      "Requirement already satisfied: numpy<1.26.0,>=1.18.5 in /opt/conda/lib/python3.10/site-packages (from scipy) (1.23.5)\n",
      "Note: you may need to restart the kernel to use updated packages.\n"
     ]
    }
   ],
   "source": [
    "pip install scipy"
   ]
  },
  {
   "cell_type": "code",
   "execution_count": 5,
   "id": "42c87d3d-c324-445e-b19f-440ddd125ca6",
   "metadata": {},
   "outputs": [
    {
     "name": "stdout",
     "output_type": "stream",
     "text": [
      "The PDF at x = 1.5 is 0.1295\n"
     ]
    }
   ],
   "source": [
    "from scipy.stats import norm\n",
    "\n",
    "def normal_pdf(x, mean, std_dev):\n",
    "    pdf_value = norm.pdf(x, loc=mean, scale=std_dev)\n",
    "    return pdf_value\n",
    "\n",
    "mean = 0\n",
    "std_dev = 1\n",
    "point = 1.5\n",
    "pdf_at_point = normal_pdf(point, mean, std_dev)\n",
    "print(f\"The PDF at x = {point} is {pdf_at_point:.4f}\")"
   ]
  },
  {
   "cell_type": "markdown",
   "id": "f979596e-1370-4240-9602-ed0d0c4ecd65",
   "metadata": {},
   "source": [
    "Q 4. The Binomial distribution is a discrete probability distribution that describes the number of successes in a fixed number of independent Bernoulli trials, where each trial can have only two possible outcomes (success or failure). The key properties of the Binomial distribution are as follows:\n",
    "\n",
    "Fixed Number of Trials (n): The Binomial distribution is defined for a fixed number of trials denoted by 'n'. Each trial is independent of the others.\n",
    "\n",
    "Constant Probability of Success (p): In each trial, there are two possible outcomes: success (usually denoted by 'S') with probability 'p' and failure (denoted by 'F') with probability '1 - p'.\n",
    "\n",
    "Discrete Nature: The Binomial distribution deals with discrete outcomes, meaning the random variable counts the number of successes, which can only be a whole number.\n",
    "\n",
    "Probability Mass Function (PMF): The probability mass function of the Binomial distribution is given by:\n",
    "P(X=k)=( \n",
    "k\n",
    "n\n",
    "​\n",
    " )⋅p \n",
    "k\n",
    " ⋅(1−p) \n",
    "n−k\n",
    "\n",
    "\n",
    "Examples of events where the Binomial distribution can be applied:\n",
    "\n",
    "Tossing a Coin: Consider flipping a fair coin 'n' times and counting the number of heads obtained. Each toss is a Bernoulli trial with two possible outcomes (heads or tails) and a constant probability of success (0.5 for a fair coin). The number of heads obtained in 'n' coin tosses follows a Binomial distribution.\n",
    "\n",
    "Defective Products: Suppose a manufacturing company produces a large number of identical products, and each product has a probability 'p' of being defective. The company randomly selects 'n' products from the production line and inspects them to count the number of defective products. The number of defective products among the 'n' inspected items follows a Binomial distribution.\n",
    "\n"
   ]
  },
  {
   "cell_type": "markdown",
   "id": "fd0e2da0-ea95-4fa3-9e26-a0a633c42fb4",
   "metadata": {},
   "source": [
    "Q 5. 5. Generate a random sample of size 1000 from a binomial distribution with probability of success 0.4\n",
    "and plot a histogram of the results using matplotlib."
   ]
  },
  {
   "cell_type": "code",
   "execution_count": 6,
   "id": "bb63819b-ae15-42db-970e-1f33690478af",
   "metadata": {},
   "outputs": [
    {
     "data": {
      "image/png": "[encoded data removed]",
      "text/plain": [
       "<Figure size 640x480 with 1 Axes>"
      ]
     },
     "metadata": {},
     "output_type": "display_data"
    }
   ],
   "source": [
    "import numpy as np\n",
    "import matplotlib.pyplot as plt\n",
    "\n",
    "num_trials = 1000 \n",
    "probability_success = 0.4\n",
    "\n",
    "random_sample = np.random.binomial(n=num_trials, p=probability_success, size=num_trials)\n",
    "\n",
    "plt.hist(random_sample, bins=20, edgecolor='black', alpha=0.7)\n",
    "plt.xlabel('Number of Successes')\n",
    "plt.ylabel('Frequency')\n",
    "plt.title('Histogram of Random Sample from Binomial Distribution')\n",
    "plt.show()"
   ]
  },
  {
   "cell_type": "markdown",
   "id": "6bf041fb-5e0f-40bc-99a5-189b38a971f7",
   "metadata": {},
   "source": [
    "Q 6.  Write a Python function to calculate the cumulative distribution function of a Poisson distribution\n",
    "with given mean at a given point.\n",
    "\n"
   ]
  },
  {
   "cell_type": "code",
   "execution_count": 7,
   "id": "eb7c868a-d4f2-41a7-8eb4-3bb5caca0939",
   "metadata": {},
   "outputs": [
    {
     "name": "stdout",
     "output_type": "stream",
     "text": [
      "The CDF at x = 4 is 0.8912\n"
     ]
    }
   ],
   "source": [
    "import math\n",
    "\n",
    "def poisson_cdf(x, mean):\n",
    "   \n",
    "    cdf_value = 0.0\n",
    "    for k in range(x + 1):\n",
    "        cdf_value += math.exp(-mean) * (mean ** k) / math.factorial(k)\n",
    "    return cdf_value\n",
    "\n",
    "mean = 2.5\n",
    "point = 4\n",
    "cdf_at_point = poisson_cdf(point, mean)\n",
    "print(f\"The CDF at x = {point} is {cdf_at_point:.4f}\")"
   ]
  },
  {
   "cell_type": "markdown",
   "id": "6770fd4a-a8e1-4d7e-8dc7-f1aecc010216",
   "metadata": {},
   "source": [
    "Q 7. difference between Binomial distribution and Poisson distribution:- \n",
    "\n",
    "1. Definition and Assumptions:\n",
    "\n",
    "Binomial Distribution: The Binomial distribution describes the number of successes (or \"S\") in a fixed number ('n') of independent Bernoulli trials, where each trial has two possible outcomes (success or failure) with a constant probability of success ('p'). The trials are assumed to be independent, and the probability of success remains the same for each trial.\n",
    "Poisson Distribution: The Poisson distribution models the number of events occurring in a fixed interval of time or space. It is often used when counting rare events that occur randomly and independently at a constant average rate ('λ').\n",
    "\n",
    "2. Nature of Events:\n",
    "\n",
    "Binomial Distribution: Applicable when the outcome of each trial is binary (success or failure). It is used for situations where the number of trials is fixed and the probability of success remains the same across all trials.\n",
    "Poisson Distribution: Applicable when counting the occurrences of rare events that can happen any number of times within a fixed interval. The events are assumed to be rare and independent, and the average rate of occurrence is constant.\n",
    "\n",
    "3. Discrete vs. Continuous:\n",
    "\n",
    "Binomial Distribution: Discrete distribution, as it deals with a count of the number of successes, which must be a whole number.\n",
    "Poisson Distribution: Discrete distribution, as it models the count of events, which is also a whole number.\n",
    "\n",
    "4. Parameters:\n",
    "\n",
    "Binomial Distribution: It is characterized by two parameters: the number of trials ('n') and the probability of success in each trial ('p').\n",
    "Poisson Distribution: It is characterized by one parameter: the average rate of occurrence ('λ').\n",
    "\n",
    "5. Limiting Case:\n",
    "\n",
    "When the number of trials ('n') in the Binomial distribution becomes very large, and the probability of success ('p') becomes very small in such a way that their product ('np') remains constant, the Binomial distribution approaches the Poisson distribution. This is known as the Poisson approximation to the Binomial distribution."
   ]
  },
  {
   "cell_type": "markdown",
   "id": "6cf33310-c80a-4318-a3cd-2d7c4092ae3b",
   "metadata": {},
   "source": [
    "Q 8. Generate a random sample of size 1000 from a Poisson distribution with mean 5 and calculate the\n",
    "sample mean and variance in python."
   ]
  },
  {
   "cell_type": "code",
   "execution_count": 9,
   "id": "95e28677-cb10-4794-8d5a-337e4f53e065",
   "metadata": {},
   "outputs": [
    {
     "name": "stdout",
     "output_type": "stream",
     "text": [
      "Requirement already satisfied: numpy in /opt/conda/lib/python3.10/site-packages (1.23.5)\n",
      "Note: you may need to restart the kernel to use updated packages.\n"
     ]
    }
   ],
   "source": [
    "pip install numpy"
   ]
  },
  {
   "cell_type": "code",
   "execution_count": 10,
   "id": "f1bea962-2a92-472b-af39-f56050ca7d08",
   "metadata": {},
   "outputs": [
    {
     "name": "stdout",
     "output_type": "stream",
     "text": [
      "Sample Mean: 4.9650\n",
      "Sample Variance: 4.4718\n"
     ]
    }
   ],
   "source": [
    "mean = 5\n",
    "sample_size = 1000\n",
    "\n",
    "random_sample = np.random.poisson(mean, size=sample_size)\n",
    "\n",
    "sample_mean = np.mean(random_sample)\n",
    "sample_variance = np.var(random_sample)\n",
    "\n",
    "print(f\"Sample Mean: {sample_mean:.4f}\")\n",
    "print(f\"Sample Variance: {sample_variance:.4f}\")"
   ]
  },
  {
   "cell_type": "markdown",
   "id": "21f14194-c219-42da-9c53-0f00f1649029",
   "metadata": {},
   "source": [
    "Q 9. In both the Binomial distribution and Poisson distribution, the mean and variance are closely related, but the way they are related differs between the two distributions.\n",
    "\n",
    "Binomial Distribution:\n",
    "\n",
    "Mean: For a Binomial distribution with parameters 'n' (number of trials) and 'p' (probability of success in each trial), the mean is given by \n",
    "�\n",
    "=\n",
    "�\n",
    "⋅\n",
    "�\n",
    "μ=n⋅p.\n",
    "Variance: The variance of a Binomial distribution is given by \n",
    "�\n",
    "2\n",
    "=\n",
    "�\n",
    "⋅\n",
    "�\n",
    "⋅\n",
    "(\n",
    "1\n",
    "−\n",
    "�\n",
    ")\n",
    "σ \n",
    "2\n",
    " =n⋅p⋅(1−p).\n",
    "Poisson Distribution:\n",
    "\n",
    "Mean: For a Poisson distribution, the mean is equal to the rate parameter, denoted as 'λ'. The rate parameter represents the average rate of occurrence of events in a fixed interval of time or space.\n",
    "Variance: The variance of a Poisson distribution is also equal to the rate parameter 'λ', which means \n",
    "�\n",
    "2\n",
    "=\n",
    "�\n",
    "σ \n",
    "2\n",
    " =λ."
   ]
  },
  {
   "cell_type": "markdown",
   "id": "e40ab9d9-e760-4f67-9048-f248dfadc6ec",
   "metadata": {},
   "source": [
    "Q 10. In a normal distribution, the least frequent data points appear in the tails of the distribution, farthest away from the mean. The normal distribution is a symmetric bell-shaped curve, and the majority of the data points cluster around the mean. As you move away from the mean in either direction, the number of data points decreases, and the frequency of occurrence becomes less common.\n",
    "\n",
    "The points on the tails of the distribution represent extreme values, which occur less frequently compared to the values closer to the mean. This is a characteristic feature of the normal distribution, where the probability density is highest at the mean and gradually decreases as you move away from it towards the tails. In fact, according to the empirical rule for normal distributions, about 95% of the data falls within two standard deviations from the mean, leaving only about 5% of the data in the tails."
   ]
  }
 ],
 "metadata": {
  "kernelspec": {
   "display_name": "Python 3 (ipykernel)",
   "language": "python",
   "name": "python3"
  },
  "language_info": {
   "codemirror_mode": {
    "name": "ipython",
    "version": 3
   },
   "file_extension": ".py",
   "mimetype": "text/x-python",
   "name": "python",
   "nbconvert_exporter": "python",
   "pygments_lexer": "ipython3",
   "version": "3.10.8"
  }
 },
 "nbformat": 4,
 "nbformat_minor": 5
}
